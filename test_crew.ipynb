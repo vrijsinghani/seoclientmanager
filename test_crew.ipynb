{
 "cells": [
  {
   "cell_type": "markdown",
   "metadata": {},
   "source": [
    "# Testing crew.kickoff() - Hello World Example"
   ]
  },
  {
   "cell_type": "code",
   "execution_count": 52,
   "metadata": {},
   "outputs": [
    {
     "ename": "ModuleNotFoundError",
     "evalue": "No module named 'openai_api'",
     "output_type": "error",
     "traceback": [
      "\u001b[0;31m---------------------------------------------------------------------------\u001b[0m",
      "\u001b[0;31mModuleNotFoundError\u001b[0m                       Traceback (most recent call last)",
      "Cell \u001b[0;32mIn[52], line 1\u001b[0m\n\u001b[0;32m----> 1\u001b[0m \u001b[38;5;28;01mfrom\u001b[39;00m \u001b[38;5;21;01mopenai_api\u001b[39;00m \u001b[38;5;28;01mimport\u001b[39;00m OpenAI\n",
      "\u001b[0;31mModuleNotFoundError\u001b[0m: No module named 'openai_api'"
     ]
    }
   ],
   "source": [
    "from openai_api import OpenAI"
   ]
  },
  {
   "cell_type": "code",
   "execution_count": 29,
   "metadata": {},
   "outputs": [],
   "source": [
    "from crewai import Crew, Agent, Task\n",
    "from crewai import LLM"
   ]
  },
  {
   "cell_type": "code",
   "execution_count": 30,
   "metadata": {},
   "outputs": [],
   "source": [
    "API_BASE_URL = 'http://192.168.30.100:8000'\n",
    "LITELLM_MASTER_KEY= 'sk-4048081138'\n",
    "OPENAI_API_BASE=\"http://192.168.30.100:8000/v1\""
   ]
  },
  {
   "cell_type": "code",
   "execution_count": 32,
   "metadata": {},
   "outputs": [],
   "source": [
    "llm = LLM(\n",
    "    model=\"gpt-4o-mini\",\n",
    "    api_key=LITELLM_MASTER_KEY,\n",
    "    base_url=OPENAI_API_BASE,\n",
    ")"
   ]
  },
  {
   "cell_type": "code",
   "execution_count": 55,
   "metadata": {},
   "outputs": [],
   "source": [
    "def step_callback_function(output):\n",
    "    print('Step Callback function called')\n",
    "    print(f\"step callback: {output}\")\n",
    "\n",
    "def task_callback_function(output):\n",
    "    print('Task_Callback function called')\n",
    "    print(f\"task callback: {output}\")"
   ]
  },
  {
   "cell_type": "markdown",
   "metadata": {},
   "source": [
    "## Create an Agent"
   ]
  },
  {
   "cell_type": "code",
   "execution_count": 56,
   "metadata": {},
   "outputs": [],
   "source": [
    "# Create a simple agent\n",
    "agent = Agent(\n",
    "    role='Greeter',\n",
    "    goal='Greet the world with enthusiasm',\n",
    "    backstory='You are an AI assistant designed to greet people warmly.',\n",
    "    verbose=True,\n",
    "    llm=llm,\n",
    ")\n",
    "poet = Agent(\n",
    "    role='poet',\n",
    "    goal='Write a Haiku',\n",
    "    backstory='You are an AI assistant designed to write haikus.',\n",
    "    verbose=True,\n",
    "    llm=llm,\n",
    ")\n",
    "# Create a simple task\n",
    "task = Task(\n",
    "    description='Create a warm greeting for the world',\n",
    "    expected_output='Hello, world!',\n",
    "    agent=agent\n",
    ")\n",
    "\n",
    "poem = Task(\n",
    "    description=\"write a haiku\",\n",
    "    expected_output=\" a haiku poem\",\n",
    "    agent=poet\n",
    ")"
   ]
  },
  {
   "cell_type": "markdown",
   "metadata": {},
   "source": [
    "## Create and Run the Crew"
   ]
  },
  {
   "cell_type": "code",
   "execution_count": 58,
   "metadata": {},
   "outputs": [
    {
     "name": "stderr",
     "output_type": "stream",
     "text": [
      "2024-10-10 23:34:54,040 - 124030882391872 - __init__.py-__init__:538 - WARNING: Overriding of current TracerProvider is not allowed\n"
     ]
    },
    {
     "name": "stdout",
     "output_type": "stream",
     "text": [
      "\u001b[1m\u001b[95m# Agent:\u001b[00m \u001b[1m\u001b[92mGreeter\u001b[00m\n",
      "\u001b[95m## Task:\u001b[00m \u001b[92mCreate a warm greeting for the world\u001b[00m\n",
      "\n",
      "\n",
      "\u001b[1m\u001b[95m# Agent:\u001b[00m \u001b[1m\u001b[92mGreeter\u001b[00m\n",
      "\u001b[95m## Final Answer:\u001b[00m \u001b[92m\n",
      "Hello, world! 🌍✨ It's a beautiful day to connect, share joy, and spread kindness across this incredible planet we all call home! No matter where you are, know that your presence matters and you are warmly welcomed! Let's make today a moment to celebrate life, embrace diversity, and support each other in our beautiful journey together. Sending you all positive vibes and heartfelt hugs! 💖🌈\u001b[00m\n",
      "\n",
      "\n",
      "Task_Callback function called\n",
      "task callback: Hello, world! 🌍✨ It's a beautiful day to connect, share joy, and spread kindness across this incredible planet we all call home! No matter where you are, know that your presence matters and you are warmly welcomed! Let's make today a moment to celebrate life, embrace diversity, and support each other in our beautiful journey together. Sending you all positive vibes and heartfelt hugs! 💖🌈\n",
      "Crew Result:\n",
      "Hello, world! 🌍✨ It's a beautiful day to connect, share joy, and spread kindness across this incredible planet we all call home! No matter where you are, know that your presence matters and you are warmly welcomed! Let's make today a moment to celebrate life, embrace diversity, and support each other in our beautiful journey together. Sending you all positive vibes and heartfelt hugs! 💖🌈\n"
     ]
    }
   ],
   "source": [
    "# Create the crew\n",
    "crew = Crew(\n",
    "    agents=[agent],\n",
    "    tasks=[task],\n",
    "    verbose=True,\n",
    "    step_callback=step_callback_function,\n",
    "    task_callback=task_callback_function,\n",
    "    \n",
    ")\n",
    "# Run the crew\n",
    "result = crew.kickoff()\n",
    "\n",
    "print(\"Crew Result:\")\n",
    "print(result)"
   ]
  }
 ],
 "metadata": {
  "kernelspec": {
   "display_name": "Python 3",
   "language": "python",
   "name": "python3"
  },
  "language_info": {
   "codemirror_mode": {
    "name": "ipython",
    "version": 3
   },
   "file_extension": ".py",
   "mimetype": "text/x-python",
   "name": "python",
   "nbconvert_exporter": "python",
   "pygments_lexer": "ipython3",
   "version": "3.10.15"
  }
 },
 "nbformat": 4,
 "nbformat_minor": 4
}
