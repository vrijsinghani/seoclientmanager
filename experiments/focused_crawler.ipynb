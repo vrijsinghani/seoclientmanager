{
 "cells": [
  {
   "cell_type": "code",
   "execution_count": 2,
   "metadata": {},
   "outputs": [],
   "source": [
    "from pydantic.v1 import BaseModel, Field, PrivateAttr\n",
    "from crewai_tools import BaseTool\n",
    "from typing import Optional, Type, Any\n",
    "import logging\n",
    "from collections import deque\n",
    "from urllib.parse import urlparse\n",
    "\n",
    "from browser_tool import BrowserTool  # Make sure this import works\n",
    "\n",
    "\n",
    "\n",
    "logger = logging.getLogger(__name__)\n",
    "\n",
    "class CrawlWebsiteToolSchema(BaseModel):\n",
    "    \"\"\"Input for CrawlWebsiteTool.\"\"\"\n",
    "    website_url: str = Field(..., description=\"Mandatory website url to crawl and read content\")\n",
    "\n",
    "class FixedCrawlWebsiteToolSchema(BaseModel):\n",
    "    \"\"\"Input for CrawlWebsiteTool when website_url is fixed.\"\"\"\n",
    "    pass\n",
    "\n",
    "\n",
    "class CrawlWebsiteTool(BaseTool):\n",
    "    name: str = \"Crawl and read website content\"\n",
    "    description: str = \"A tool that can be used to crawl a website and read its content, including content from internal links on the same page.\"\n",
    "    args_schema: Type[BaseModel] = CrawlWebsiteToolSchema\n",
    "\n",
    "    website_url: Optional[str] = None\n",
    "    max_pages: int = 10\n",
    "    _browser_tool: BrowserTool = PrivateAttr()\n",
    "\n",
    "    def __init__(self, website_url: Optional[str] = None, **kwargs):\n",
    "        super().__init__(**kwargs)\n",
    "        logger.info(\"Initializing CrawlWebsiteTool\")\n",
    "        if website_url is not None:\n",
    "            self.website_url = website_url\n",
    "\n",
    "    def _run(self, website_url: str) -> str:\n",
    "        logger.info(f\"Processing {website_url}\")\n",
    "        content = self._crawl_website(website_url)\n",
    "        return content\n",
    "\n",
    "    def _crawl_website(self, url: str) -> str:\n",
    "        content = \"\"\n",
    "        visited_urls = set()\n",
    "        urls_to_visit = deque([url])\n",
    "        base_domain = urlparse(url).netloc\n",
    "\n",
    "        while urls_to_visit and len(visited_urls) < self.max_pages:\n",
    "            current_url = urls_to_visit.popleft()\n",
    "            if current_url in visited_urls:\n",
    "                continue\n",
    "\n",
    "            logger.info(f\"Visiting: {current_url}\")\n",
    "            try:\n",
    "                page_content = self._browser_tool.get_content(current_url)\n",
    "                content += f\"---link: {current_url}\\n{page_content}\\n---page-end---\\n\"\n",
    "                visited_urls.add(current_url)\n",
    "\n",
    "                links = self._browser_tool.get_links(current_url)\n",
    "                for link in links:\n",
    "                    if link not in visited_urls and urlparse(link).netloc == base_domain:\n",
    "                        urls_to_visit.append(link)\n",
    "            except Exception as e:\n",
    "                logger.error(f\"Error processing {current_url}: {e}\")\n",
    "                content += f\"---link: {current_url}\\nError: Failed to process this page\\n---page-end---\\n\"\n",
    "\n",
    "        return content\n"
   ]
  },
  {
   "cell_type": "code",
   "execution_count": 3,
   "metadata": {},
   "outputs": [
    {
     "name": "stderr",
     "output_type": "stream",
     "text": [
      "2024-10-17 13:50:43,793 - 126323511457600 - 3650673014.py-3650673014:65 - ERROR: Error processing https://brandon.neuralami.com: 'ModelPrivateAttr' object has no attribute 'get_content'\n"
     ]
    },
    {
     "name": "stdout",
     "output_type": "stream",
     "text": [
      "---link: https://brandon.neuralami.com\n",
      "Error: Failed to process this page\n",
      "---page-end---\n",
      "\n"
     ]
    }
   ],
   "source": [
    "# Add this code block to test the CrawlWebsiteTool on the specified URL\n",
    "\n",
    "# Create an instance of the CrawlWebsiteTool\n",
    "crawler_tool = CrawlWebsiteTool()\n",
    "\n",
    "# Run the crawler on the specified website\n",
    "extracted_content = crawler_tool._run(\"https://brandon.neuralami.com\")\n",
    "\n",
    "# Print the extracted content\n",
    "print(extracted_content)"
   ]
  },
  {
   "cell_type": "code",
   "execution_count": 1,
   "metadata": {},
   "outputs": [
    {
     "ename": "RuntimeError",
     "evalue": "asyncio.run() cannot be called from a running event loop",
     "output_type": "error",
     "traceback": [
      "\u001b[0;31m---------------------------------------------------------------------------\u001b[0m",
      "\u001b[0;31mRuntimeError\u001b[0m                              Traceback (most recent call last)",
      "Cell \u001b[0;32mIn[1], line 14\u001b[0m\n\u001b[1;32m     11\u001b[0m     \u001b[38;5;28mprint\u001b[39m(links)\n\u001b[1;32m     12\u001b[0m     \u001b[38;5;28mprint\u001b[39m(\u001b[38;5;124mf\u001b[39m\u001b[38;5;124m\"\u001b[39m\u001b[38;5;124mtime \u001b[39m\u001b[38;5;132;01m{\u001b[39;00mtime\u001b[38;5;241m.\u001b[39mtime()\u001b[38;5;250m \u001b[39m\u001b[38;5;241m-\u001b[39m\u001b[38;5;250m \u001b[39mstart_time\u001b[38;5;132;01m}\u001b[39;00m\u001b[38;5;124m\"\u001b[39m)\n\u001b[0;32m---> 14\u001b[0m \u001b[43masyncio\u001b[49m\u001b[38;5;241;43m.\u001b[39;49m\u001b[43mrun\u001b[49m\u001b[43m(\u001b[49m\u001b[43mmain\u001b[49m\u001b[43m(\u001b[49m\u001b[43m)\u001b[49m\u001b[43m)\u001b[49m\n",
      "File \u001b[0;32m~/miniconda3/envs/seomanager/lib/python3.10/asyncio/runners.py:33\u001b[0m, in \u001b[0;36mrun\u001b[0;34m(main, debug)\u001b[0m\n\u001b[1;32m      9\u001b[0m \u001b[38;5;250m\u001b[39m\u001b[38;5;124;03m\"\"\"Execute the coroutine and return the result.\u001b[39;00m\n\u001b[1;32m     10\u001b[0m \n\u001b[1;32m     11\u001b[0m \u001b[38;5;124;03mThis function runs the passed coroutine, taking care of\u001b[39;00m\n\u001b[0;32m   (...)\u001b[0m\n\u001b[1;32m     30\u001b[0m \u001b[38;5;124;03m    asyncio.run(main())\u001b[39;00m\n\u001b[1;32m     31\u001b[0m \u001b[38;5;124;03m\"\"\"\u001b[39;00m\n\u001b[1;32m     32\u001b[0m \u001b[38;5;28;01mif\u001b[39;00m events\u001b[38;5;241m.\u001b[39m_get_running_loop() \u001b[38;5;129;01mis\u001b[39;00m \u001b[38;5;129;01mnot\u001b[39;00m \u001b[38;5;28;01mNone\u001b[39;00m:\n\u001b[0;32m---> 33\u001b[0m     \u001b[38;5;28;01mraise\u001b[39;00m \u001b[38;5;167;01mRuntimeError\u001b[39;00m(\n\u001b[1;32m     34\u001b[0m         \u001b[38;5;124m\"\u001b[39m\u001b[38;5;124masyncio.run() cannot be called from a running event loop\u001b[39m\u001b[38;5;124m\"\u001b[39m)\n\u001b[1;32m     36\u001b[0m \u001b[38;5;28;01mif\u001b[39;00m \u001b[38;5;129;01mnot\u001b[39;00m coroutines\u001b[38;5;241m.\u001b[39miscoroutine(main):\n\u001b[1;32m     37\u001b[0m     \u001b[38;5;28;01mraise\u001b[39;00m \u001b[38;5;167;01mValueError\u001b[39;00m(\u001b[38;5;124m\"\u001b[39m\u001b[38;5;124ma coroutine was expected, got \u001b[39m\u001b[38;5;132;01m{!r}\u001b[39;00m\u001b[38;5;124m\"\u001b[39m\u001b[38;5;241m.\u001b[39mformat(main))\n",
      "\u001b[0;31mRuntimeError\u001b[0m: asyncio.run() cannot be called from a running event loop"
     ]
    }
   ],
   "source": [
    "import asyncio\n",
    "import time\n",
    "from typing import List\n",
    "from spider_rs import Website\n",
    "\n",
    "async def main() -> None:\n",
    "    website: Website = Website(\"https://tlcfloorcenter.pro/ \", False)\n",
    "    start_time: float = time.time()\n",
    "    website.crawl()\n",
    "    links: List[str] = website.get_links()\n",
    "    print(links)\n",
    "    print(f\"time {time.time() - start_time}\")\n",
    "\n",
    "asyncio.run(main())"
   ]
  },
  {
   "cell_type": "code",
   "execution_count": 1,
   "metadata": {},
   "outputs": [
    {
     "ename": "RuntimeError",
     "evalue": "asyncio.run() cannot be called from a running event loop",
     "output_type": "error",
     "traceback": [
      "\u001b[0;31m---------------------------------------------------------------------------\u001b[0m",
      "\u001b[0;31mRuntimeError\u001b[0m                              Traceback (most recent call last)",
      "Cell \u001b[0;32mIn[1], line 37\u001b[0m\n\u001b[1;32m     34\u001b[0m             \u001b[38;5;28mprint\u001b[39m(\u001b[38;5;124mf\u001b[39m\u001b[38;5;124m\"\u001b[39m\u001b[38;5;124mCrawl failed: \u001b[39m\u001b[38;5;132;01m{\u001b[39;00mresult\u001b[38;5;241m.\u001b[39merror_message\u001b[38;5;132;01m}\u001b[39;00m\u001b[38;5;124m\"\u001b[39m)\n\u001b[1;32m     36\u001b[0m \u001b[38;5;28;01mif\u001b[39;00m \u001b[38;5;18m__name__\u001b[39m \u001b[38;5;241m==\u001b[39m \u001b[38;5;124m\"\u001b[39m\u001b[38;5;124m__main__\u001b[39m\u001b[38;5;124m\"\u001b[39m:\n\u001b[0;32m---> 37\u001b[0m     \u001b[43masyncio\u001b[49m\u001b[38;5;241;43m.\u001b[39;49m\u001b[43mrun\u001b[49m\u001b[43m(\u001b[49m\u001b[43mmain\u001b[49m\u001b[43m(\u001b[49m\u001b[43m)\u001b[49m\u001b[43m)\u001b[49m\n",
      "File \u001b[0;32m~/miniconda3/envs/seomanager/lib/python3.10/asyncio/runners.py:33\u001b[0m, in \u001b[0;36mrun\u001b[0;34m(main, debug)\u001b[0m\n\u001b[1;32m      9\u001b[0m \u001b[38;5;250m\u001b[39m\u001b[38;5;124;03m\"\"\"Execute the coroutine and return the result.\u001b[39;00m\n\u001b[1;32m     10\u001b[0m \n\u001b[1;32m     11\u001b[0m \u001b[38;5;124;03mThis function runs the passed coroutine, taking care of\u001b[39;00m\n\u001b[0;32m   (...)\u001b[0m\n\u001b[1;32m     30\u001b[0m \u001b[38;5;124;03m    asyncio.run(main())\u001b[39;00m\n\u001b[1;32m     31\u001b[0m \u001b[38;5;124;03m\"\"\"\u001b[39;00m\n\u001b[1;32m     32\u001b[0m \u001b[38;5;28;01mif\u001b[39;00m events\u001b[38;5;241m.\u001b[39m_get_running_loop() \u001b[38;5;129;01mis\u001b[39;00m \u001b[38;5;129;01mnot\u001b[39;00m \u001b[38;5;28;01mNone\u001b[39;00m:\n\u001b[0;32m---> 33\u001b[0m     \u001b[38;5;28;01mraise\u001b[39;00m \u001b[38;5;167;01mRuntimeError\u001b[39;00m(\n\u001b[1;32m     34\u001b[0m         \u001b[38;5;124m\"\u001b[39m\u001b[38;5;124masyncio.run() cannot be called from a running event loop\u001b[39m\u001b[38;5;124m\"\u001b[39m)\n\u001b[1;32m     36\u001b[0m \u001b[38;5;28;01mif\u001b[39;00m \u001b[38;5;129;01mnot\u001b[39;00m coroutines\u001b[38;5;241m.\u001b[39miscoroutine(main):\n\u001b[1;32m     37\u001b[0m     \u001b[38;5;28;01mraise\u001b[39;00m \u001b[38;5;167;01mValueError\u001b[39;00m(\u001b[38;5;124m\"\u001b[39m\u001b[38;5;124ma coroutine was expected, got \u001b[39m\u001b[38;5;132;01m{!r}\u001b[39;00m\u001b[38;5;124m\"\u001b[39m\u001b[38;5;241m.\u001b[39mformat(main))\n",
      "\u001b[0;31mRuntimeError\u001b[0m: asyncio.run() cannot be called from a running event loop"
     ]
    }
   ],
   "source": [
    "import asyncio\n",
    "from crawl4ai import AsyncWebCrawler, CacheMode\n",
    "\n",
    "async def main():\n",
    "    async with AsyncWebCrawler(verbose=True) as crawler:\n",
    "        result = await crawler.arun(\n",
    "            url=\"https://tlcfloorcenter.pro/\",\n",
    "            # Content filtering\n",
    "            word_count_threshold=10,\n",
    "            excluded_tags=['form', 'header'],\n",
    "            exclude_external_links=True,\n",
    "            \n",
    "            # Content processing\n",
    "            process_iframes=True,\n",
    "            remove_overlay_elements=True,\n",
    "            \n",
    "            # Cache control\n",
    "            cache_mode=CacheMode.ENABLE  # Use cache if available\n",
    "        )\n",
    "        \n",
    "        if result.success:\n",
    "            # Print clean content\n",
    "            print(\"Content:\", result.markdown[:500])  # First 500 chars\n",
    "            \n",
    "            # Process images\n",
    "            for image in result.media[\"images\"]:\n",
    "                print(f\"Found image: {image['src']}\")\n",
    "            \n",
    "            # Process links\n",
    "            for link in result.links[\"internal\"]:\n",
    "                print(f\"Internal link: {link['href']}\")\n",
    "                \n",
    "        else:\n",
    "            print(f\"Crawl failed: {result.error_message}\")\n",
    "\n",
    "if __name__ == \"__main__\":\n",
    "    asyncio.run(main())"
   ]
  },
  {
   "cell_type": "code",
   "execution_count": 21,
   "metadata": {},
   "outputs": [
    {
     "name": "stdout",
     "output_type": "stream",
     "text": [
      "{'status': 'healthy', 'available_slots': 5, 'memory_usage': 9.5, 'cpu_usage': 68.5}\n",
      "{'task_id': '5b6e348a-69b1-46a7-817f-ad88343fe531'}\n",
      "Task ID: 5b6e348a-69b1-46a7-817f-ad88343fe531\n",
      "{'detail': 'Not Found'}\n"
     ]
    }
   ],
   "source": [
    "import requests\n",
    "\n",
    "# For secured instances\n",
    "api_token=\"vr-125twelveoaks\"\n",
    "health = requests.get(\"http://192.168.1.160:11235/health\")\n",
    "print(health.json())   \n",
    "\n",
    "headers = {\"Authorization\": f\"Bearer {api_token}\"}\n",
    "\n",
    "# Basic crawl with authentication\n",
    "response = requests.post(\n",
    "    \"http://192.168.1.160:11235/crawl\",\n",
    "    headers=headers,\n",
    "    json={\n",
    "        \"urls\": \"https://www.neuralami.com\",\n",
    "        \"priority\": 10\n",
    "    }\n",
    ")\n",
    "print(response.json())\n",
    "task_id = response.json()[\"task_id\"]\n",
    "print(\"Task ID:\", task_id)\n",
    "result=requests.get(f\"http://192.168.1.160:11235/crawl/{task_id}\")\n",
    "print(result.json())\n",
    "\n"
   ]
  },
  {
   "cell_type": "code",
   "execution_count": 22,
   "metadata": {},
   "outputs": [
    {
     "name": "stdout",
     "output_type": "stream",
     "text": [
      "{'detail': 'Not Found'}\n"
     ]
    }
   ],
   "source": [
    "result=requests.get(f\"http://192.168.1.160:11235/crawl/{task_id}\")\n",
    "print(result.json())"
   ]
  }
 ],
 "metadata": {
  "kernelspec": {
   "display_name": "seoclientmanager-cGGTKZoj-py3.10",
   "language": "python",
   "name": "python3"
  },
  "language_info": {
   "codemirror_mode": {
    "name": "ipython",
    "version": 3
   },
   "file_extension": ".py",
   "mimetype": "text/x-python",
   "name": "python",
   "nbconvert_exporter": "python",
   "pygments_lexer": "ipython3",
   "version": "3.10.15"
  }
 },
 "nbformat": 4,
 "nbformat_minor": 2
}
